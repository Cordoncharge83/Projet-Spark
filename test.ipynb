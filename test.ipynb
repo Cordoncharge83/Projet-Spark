{
 "cells": [
  {
   "cell_type": "code",
   "execution_count": null,
   "metadata": {},
   "outputs": [],
   "source": [
    "import requests\n",
    "response = requests.get(\"https://opensky-network.org/api/states/all\")\n",
    "\n",
    "# Vérifier si la requête a réussi\n",
    "if response.status_code == 200:\n",
    "    data = response.json()  # Convertir la réponse en dictionnaire\n",
    "    \n",
    "    # Vérifier si \"states\" existe dans les données\n",
    "    if \"states\" in data and data[\"states\"]:\n",
    "        for state in data[\"states\"]:\n",
    "            icao24 = state[0]  # Identifiant unique de l'avion (ICAO24)\n",
    "            timestamp = state[3]  # Timestamp de la dernière position\n",
    "            latitude = state[6]  # Latitude de l'avion\n",
    "            longitude = state[5]  # Longitude de l'avion\n",
    "\n",
    "            # Afficher uniquement si latitude et longitude sont disponibles\n",
    "            if latitude is not None and longitude is not None:\n",
    "                print(f\"ID: {icao24}, Timestamp: {timestamp}, Latitude: {latitude}, Longitude: {longitude}\")\n",
    "    else:\n",
    "        print(\"Aucune donnée d'avion disponible.\")\n",
    "else:\n",
    "    print(\"Erreur :\", response.text)"
   ]
  },
  {
   "cell_type": "code",
   "execution_count": null,
   "metadata": {},
   "outputs": [],
   "source": [
    "%pip install ipyleaflet"
   ]
  },
  {
   "cell_type": "code",
   "execution_count": 1,
   "metadata": {},
   "outputs": [
    {
     "data": {
      "application/vnd.jupyter.widget-view+json": {
       "model_id": "826ed802519042b59a95fd14bb70389c",
       "version_major": 2,
       "version_minor": 0
      },
      "text/plain": [
       "Map(center=[45.3288, 1.0], controls=(ZoomControl(options=['position', 'zoom_in_text', 'zoom_in_title', 'zoom_o…"
      ]
     },
     "metadata": {},
     "output_type": "display_data"
    }
   ],
   "source": [
    "from ipyleaflet import Map, basemaps, Marker, Icon, Popup\n",
    "from ipywidgets import HTML\n",
    "import time\n",
    "\n",
    "icon_url = \"./avion_icon.png\"\n",
    "icon = Icon(icon_url=icon_url, icon_size=[40, 40])  # Taille ajustable\n",
    "\n",
    "center = [45.3288, 1.0]\n",
    "\n",
    "m = Map(center=center, zoom=5)\n",
    "\n",
    "message2 = HTML()\n",
    "message2.value = \"Hello <b>World</b>\"\n",
    "message2.placeholder = \"Some HTML\"\n",
    "message2.description = \"Some HTML\"\n",
    "\n",
    "marker = Marker(location=center, icon=icon, draggable=False)\n",
    "marker.popup = message2\n",
    "\n",
    "m.add(marker)\n",
    "\n",
    "display(m)\n",
    "\n",
    "time.sleep(5)\n",
    "for i in range(5):\n",
    "    marker.location = (marker.location[0] + i*0.1,marker.location[1])\n",
    "    time.sleep(5)\n"
   ]
  }
 ],
 "metadata": {
  "kernelspec": {
   "display_name": "Python 3 (ipykernel)",
   "language": "python",
   "name": "python3"
  },
  "language_info": {
   "codemirror_mode": {
    "name": "ipython",
    "version": 3
   },
   "file_extension": ".py",
   "mimetype": "text/x-python",
   "name": "python",
   "nbconvert_exporter": "python",
   "pygments_lexer": "ipython3",
   "version": "3.12.9"
  }
 },
 "nbformat": 4,
 "nbformat_minor": 2
}
