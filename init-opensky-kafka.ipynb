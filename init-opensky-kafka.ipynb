{
 "cells": [
  {
   "cell_type": "markdown",
   "metadata": {},
   "source": [
    "# L'API utilisée : **OpenSky Network** \n",
    "c'est un projet collaboratif qui fournit des données de traffic aérien en temps réel. Elle permet d’accéder aux informations ADS-B (Automatic Dependent Surveillance–Broadcast) transmises par les avions, captées par un réseau mondial de récepteurs.\n",
    "\n",
    "L'url qu'on utilise est \"https://opensky-network.org/api/states/all\" et elle retourne un json de la forme : \n",
    "\n",
    "{\n",
    "  \"time\": 1711291270,\n",
    "  \"states\": [\n",
    "    [\n",
    "      \"a00001\",        # 0: icao24 (identifiant unique de l'avion)\n",
    "      \"AFR123\",        # 1: callsign (indicatif du vol, ex: \"AFR123\" = Air France 123)\n",
    "      \"France\",        # 2: origin_country\n",
    "      1711291267,      # 3: time_position\n",
    "      1711291268,      # 4: last_contact\n",
    "      2.3522,          # 5: longitude\n",
    "      48.8566,         # 6: latitude\n",
    "      11000.0,         # 7: baro_altitude (en mètres)\n",
    "      False,           # 8: on_ground (si l'avion est au sol)\n",
    "      250.0,           # 9: velocity (vitesse horizontale en m/s)\n",
    "      ...\n",
    "    ]\n",
    "  ]\n",
    "}\n",
    "\n"
   ]
  },
  {
   "cell_type": "markdown",
   "metadata": {},
   "source": [
    "## Imports et récupération des données"
   ]
  },
  {
   "cell_type": "code",
   "execution_count": null,
   "metadata": {},
   "outputs": [],
   "source": [
    "import requests\n",
    "from kafka import KafkaProducer\n",
    "import json\n",
    "import time\n",
    "\n",
    "# Fonction pour récupérer les données brutes depuis l'API OpenSky\n",
    "def get_opensky_data():\n",
    "    url = \"https://opensky-network.org/api/states/all\"\n",
    "    response = requests.get(url)\n",
    "    if response.status_code == 200:\n",
    "        data = response.json()\n",
    "        return data.get(\"states\", [])\n",
    "    else:\n",
    "        print(f\"Failed to fetch data: {response.status_code}\")\n",
    "        return []"
   ]
  },
  {
   "cell_type": "markdown",
   "metadata": {},
   "source": [
    "## Définition des envois"
   ]
  },
  {
   "cell_type": "markdown",
   "metadata": {},
   "source": [
    "### Envoi pour le comptage par région"
   ]
  },
  {
   "cell_type": "code",
   "execution_count": null,
   "metadata": {},
   "outputs": [],
   "source": [
    "# Fonction pour compter le nombre d'avions par pays d'origine\n",
    "def process_region_counts(states):\n",
    "    region_counts = {}\n",
    "    for state in states:\n",
    "        icao24, callsign, origin_country = state[:3]\n",
    "        region_counts[origin_country] = region_counts.get(origin_country, 0) + 1\n",
    "    return region_counts\n",
    "\n",
    "# Envoi des comptages par région (format clé/valeur)\n",
    "def send_region_counts(topic, region_counts):\n",
    "    producer = KafkaProducer(\n",
    "        bootstrap_servers='kafka1:9092',\n",
    "        value_serializer=lambda v: json.dumps(v).encode('utf-8')\n",
    "    )\n",
    "    for key, value in region_counts.items():\n",
    "        producer.send(topic, value={\"region\": key, \"count\": value})\n",
    "    producer.flush()\n",
    "    print(f\"Sent region counts to topic '{topic}'\")\n",
    "\n",
    "# Boucle principale, envoi des données toutes les 10 secondes    \n",
    "def main():\n",
    "    topic_regions = \"opensky-planes\"\n",
    "\n",
    "    while True:\n",
    "        states = get_opensky_data()\n",
    "\n",
    "        # Envoi du comptage par région\n",
    "        region_data = process_region_counts(states)\n",
    "        send_region_counts(topic_regions, region_data)\n",
    "\n",
    "        time.sleep(10)\n",
    "\n",
    "if __name__ == \"__main__\":\n",
    "    main()\n"
   ]
  },
  {
   "cell_type": "markdown",
   "metadata": {},
   "source": [
    "### Envoi pour les inormations sur les avions avec un callsign non vide"
   ]
  },
  {
   "cell_type": "code",
   "execution_count": null,
   "metadata": {},
   "outputs": [],
   "source": [
    "# Fonction pour filtrer les avions ayant un callsign non vide\n",
    "def process_callsign_data(states):\n",
    "    filtered = []\n",
    "    for state in states:\n",
    "        callsign = state[1]\n",
    "        if callsign and callsign.strip() != \"\":\n",
    "            filtered.append({\n",
    "                \"callsign\": callsign.strip(),\n",
    "                \"latitude\": state[6],\n",
    "                \"longitude\": state[5],\n",
    "                \"baro_altitude\": state[7],\n",
    "                \"velocity\": state[9]\n",
    "            })\n",
    "    return filtered\n",
    "\n",
    "# Envoi d'une liste de messages (avions avec callsign) vers un topic Kafka\n",
    "def send_to_kafka(topic, data_list):\n",
    "    producer = KafkaProducer(\n",
    "        bootstrap_servers='kafka1:9092',\n",
    "        value_serializer=lambda v: json.dumps(v).encode('utf-8')\n",
    "    )\n",
    "    for item in data_list:\n",
    "        producer.send(topic, value=item)\n",
    "    producer.flush()\n",
    "    print(f\"Sent {len(data_list)} records to topic '{topic}'\")\n",
    "\n",
    "\n",
    "# Boucle principale, envoi des données toutes les 10 secondes\n",
    "def main():\n",
    "    topic_callsigns = \"opensky-callsigns\"\n",
    "\n",
    "    while True:\n",
    "        states = get_opensky_data()\n",
    "\n",
    "        # Envoi des avions avec callsign\n",
    "        callsign_data = process_callsign_data(states)\n",
    "        send_to_kafka(topic_callsigns, callsign_data)\n",
    "\n",
    "        time.sleep(10)\n",
    "\n",
    "if __name__ == \"__main__\":\n",
    "    main()\n"
   ]
  }
 ],
 "metadata": {
  "kernelspec": {
   "display_name": "Python 3 (ipykernel)",
   "language": "python",
   "name": "python3"
  },
  "language_info": {
   "codemirror_mode": {
    "name": "ipython",
    "version": 3
   },
   "file_extension": ".py",
   "mimetype": "text/x-python",
   "name": "python",
   "nbconvert_exporter": "python",
   "pygments_lexer": "ipython3",
   "version": "3.12.9"
  }
 },
 "nbformat": 4,
 "nbformat_minor": 2
}
