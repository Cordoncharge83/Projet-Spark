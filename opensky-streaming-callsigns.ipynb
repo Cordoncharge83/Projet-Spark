{
 "cells": [
  {
   "cell_type": "code",
   "execution_count": null,
   "metadata": {},
   "outputs": [],
   "source": [
    "from pyspark.sql import SparkSession\n",
    "from pyspark.sql.functions import from_json, col\n",
    "from pyspark.sql.types import StringType, IntegerType, StructType, StructField, DoubleType"
   ]
  },
  {
   "cell_type": "markdown",
   "metadata": {},
   "source": [
    "# Première requête streaming : compter le nombre d'avion par région\n"
   ]
  },
  {
   "cell_type": "code",
   "execution_count": null,
   "metadata": {},
   "outputs": [],
   "source": [
    "spark = SparkSession.builder \\\n",
    "    .appName(\"OpenSkyStreaming-Callsigns\") \\\n",
    "    .master(\"spark://spark:7077\") \\\n",
    "    .config(\"spark.jars.packages\", \"org.apache.spark:spark-sql-kafka-0-10_2.12:3.5.3\") \\\n",
    "    .getOrCreate()\n",
    "\n",
    "schema1 = StructType([\n",
    "    StructField(\"region\", StringType(), True),\n",
    "    StructField(\"count\", IntegerType(), True)\n",
    "])\n",
    "\n",
    "# Lecture du flux Kafka\n",
    "df = spark.readStream \\\n",
    "    .format(\"kafka\") \\\n",
    "    .option(\"kafka.bootstrap.servers\", \"kafka1:9092\") \\\n",
    "    .option(\"subscribe\", \"opensky-planes\") \\\n",
    "    .load()\n",
    "\n",
    "# Parsing du JSON plus simple\n",
    "df = df.selectExpr(\"CAST(value AS STRING) as json_str\")\n",
    "parsed_df = df.select(from_json(col(\"json_str\"), schema1).alias(\"data\")).select(\"data.*\")\n",
    "\n",
    "# Écriture en console\n",
    "query = parsed_df.writeStream \\\n",
    "    .outputMode(\"append\") \\\n",
    "    .format(\"console\") \\\n",
    "    .start()\n",
    "\n",
    "query.awaitTermination()\n",
    "\n"
   ]
  },
  {
   "cell_type": "markdown",
   "metadata": {},
   "source": [
    "# 2ème requête streaming : Suivi en temps réel des vols commerciaux (callsigns non vides)"
   ]
  },
  {
   "cell_type": "code",
   "execution_count": null,
   "metadata": {},
   "outputs": [
    {
     "name": "stderr",
     "output_type": "stream",
     "text": [
      "25/03/24 17:31:57 WARN NetworkClient: [AdminClient clientId=adminclient-2] Connection to node 1 (43bd697e26f9/172.18.0.6:9092) could not be established. Broker may not be available.\n",
      "25/03/24 17:31:57 WARN NetworkClient: [AdminClient clientId=adminclient-4] Connection to node 1 (43bd697e26f9/172.18.0.6:9092) could not be established. Broker may not be available.\n",
      "25/03/24 17:31:57 WARN NetworkClient: [AdminClient clientId=adminclient-5] Connection to node 1 (43bd697e26f9/172.18.0.6:9092) could not be established. Broker may not be available.\n",
      "25/03/24 17:31:57 WARN NetworkClient: [AdminClient clientId=adminclient-1] Connection to node 1 (43bd697e26f9/172.18.0.6:9092) could not be established. Broker may not be available.\n",
      "25/03/24 17:31:57 WARN NetworkClient: [AdminClient clientId=adminclient-3] Connection to node 1 (43bd697e26f9/172.18.0.6:9092) could not be established. Broker may not be available.\n",
      "25/03/24 17:31:57 WARN NetworkClient: [AdminClient clientId=adminclient-2] Connection to node 1 (43bd697e26f9/172.18.0.6:9092) could not be established. Broker may not be available.\n",
      "25/03/24 17:31:57 WARN NetworkClient: [AdminClient clientId=adminclient-5] Connection to node 1 (43bd697e26f9/172.18.0.6:9092) could not be established. Broker may not be available.\n",
      "25/03/24 17:31:57 WARN NetworkClient: [AdminClient clientId=adminclient-1] Connection to node 1 (43bd697e26f9/172.18.0.6:9092) could not be established. Broker may not be available.\n",
      "25/03/24 17:31:57 WARN NetworkClient: [AdminClient clientId=adminclient-4] Connection to node 1 (43bd697e26f9/172.18.0.6:9092) could not be established. Broker may not be available.\n"
     ]
    }
   ],
   "source": [
    "spark = SparkSession.builder \\\n",
    "    .appName(\"OpenSkyStreaming-Callsigns\") \\\n",
    "    .master(\"spark://spark:7077\") \\\n",
    "    .config(\"spark.jars.packages\", \"org.apache.spark:spark-sql-kafka-0-10_2.12:3.5.3\") \\\n",
    "    .getOrCreate()\n",
    "\n",
    "schema = StructType([\n",
    "    StructField(\"callsign\", StringType(), True),\n",
    "    StructField(\"latitude\", DoubleType(), True),\n",
    "    StructField(\"longitude\", DoubleType(), True),\n",
    "    StructField(\"baro_altitude\", DoubleType(), True),\n",
    "    StructField(\"velocity\", DoubleType(), True)\n",
    "])\n",
    "\n",
    "df = spark.readStream \\\n",
    "    .format(\"kafka\") \\\n",
    "    .option(\"kafka.bootstrap.servers\", \"kafka1:9092\") \\\n",
    "    .option(\"subscribe\", \"opensky-callsigns\") \\\n",
    "    .load()\n",
    "\n",
    "df = df.selectExpr(\"CAST(value AS STRING) as json_str\")\n",
    "parsed_df = df.select(from_json(col(\"json_str\"), schema).alias(\"data\")).select(\"data.*\")\n",
    "\n",
    "# Filtrer les avions avec un callsign non vide\n",
    "filtered_df = parsed_df.filter(col(\"callsign\").isNotNull() & (col(\"callsign\") != \"\"))\n",
    "\n",
    "query = filtered_df.writeStream \\\n",
    "    .outputMode(\"append\") \\\n",
    "    .format(\"console\") \\\n",
    "    .start()\n",
    "\n",
    "query.awaitTermination()\n"
   ]
  }
 ],
 "metadata": {
  "kernelspec": {
   "display_name": "Python 3 (ipykernel)",
   "language": "python",
   "name": "python3"
  },
  "language_info": {
   "codemirror_mode": {
    "name": "ipython",
    "version": 3
   },
   "file_extension": ".py",
   "mimetype": "text/x-python",
   "name": "python",
   "nbconvert_exporter": "python",
   "pygments_lexer": "ipython3",
   "version": "3.12.9"
  }
 },
 "nbformat": 4,
 "nbformat_minor": 2
}
